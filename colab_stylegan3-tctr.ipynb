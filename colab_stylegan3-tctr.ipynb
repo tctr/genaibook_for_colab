{
  "nbformat": 4,
  "nbformat_minor": 0,
  "metadata": {
    "colab": {
      "provenance": [],
      "gpuType": "T4",
      "authorship_tag": "ABX9TyPI8ceixwY1l3lVKfCwi3pg",
      "include_colab_link": true
    },
    "kernelspec": {
      "name": "python3",
      "display_name": "Python 3"
    },
    "language_info": {
      "name": "python"
    },
    "accelerator": "GPU"
  },
  "cells": [
    {
      "cell_type": "markdown",
      "metadata": {
        "id": "view-in-github",
        "colab_type": "text"
      },
      "source": [
        "<a href=\"https://colab.research.google.com/github/tctr/genaibook_for_colab/blob/master/colab_stylegan3-tctr.ipynb\" target=\"_parent\"><img src=\"https://colab.research.google.com/assets/colab-badge.svg\" alt=\"Open In Colab\"/></a>"
      ]
    },
    {
      "cell_type": "code",
      "execution_count": null,
      "metadata": {
        "id": "PLdzjEyUNGZB"
      },
      "outputs": [],
      "source": [
        "try:\n",
        "    from google.colab import drive\n",
        "    drive.mount('/content/drive', force_remount=True)\n",
        "    COLAB = True\n",
        "    print(\"Note: using Google CoLab\")\n",
        "except:\n",
        "    print(\"Note: not using Google CoLab\")\n",
        "    COLAB = False"
      ]
    },
    {
      "cell_type": "code",
      "source": [
        "!git clone https://github.com/tctr/stylegan3-tctr.git"
      ],
      "metadata": {
        "id": "yvlak1JgNH9r"
      },
      "execution_count": null,
      "outputs": []
    },
    {
      "cell_type": "code",
      "source": [
        "!pip install ninja"
      ],
      "metadata": {
        "id": "q0oNEsvivTnn"
      },
      "execution_count": null,
      "outputs": []
    },
    {
      "cell_type": "code",
      "source": [
        "import sys\n",
        "sys.path.append('./stylegan3-tctr')\n"
      ],
      "metadata": {
        "id": "WySLi_XbU9gM"
      },
      "execution_count": null,
      "outputs": []
    },
    {
      "cell_type": "code",
      "source": [
        "%%shell\n",
        "network='https://api.ngc.nvidia.com/v2/models/nvidia/research/stylegan3/versions/1/files/stylegan3-r-afhqv2-512x512.pkl'\n",
        "seed='500'\n",
        "\n",
        "cli='python stylegan3-tctr/gen_images.py --outdir=/content/drive/MyDrive/stylegan3 --trunc=1 --seeds='$seed' --network='$network\n",
        "\n",
        "echo $cli\n",
        "\n",
        "eval $cli"
      ],
      "metadata": {
        "id": "CY0D3t3HFMy_"
      },
      "execution_count": null,
      "outputs": []
    },
    {
      "cell_type": "code",
      "source": [
        "# Generate an image using pre-trained AFHQv2 model (\"Ours\" in Figure 1, left).\n",
        "\n",
        "%%shell\n",
        "python stylegan3-tctr/gen_images.py --outdir=/content/drive/MyDrive/stylegan3 --trunc=1 --seeds=100000 \\\n",
        "    --network=https://api.ngc.nvidia.com/v2/models/nvidia/research/stylegan3/versions/1/files/stylegan3-r-afhqv2-512x512.pkl\n",
        "\n"
      ],
      "metadata": {
        "id": "A1rC7UJuUmz2"
      },
      "execution_count": null,
      "outputs": []
    },
    {
      "cell_type": "code",
      "source": [
        "\n",
        "# Render a 4x2 grid of interpolations for seeds 0 through 31.\n",
        "!python stylegan3-tctr/gen_video.py --output=/content/drive/MyDrive/stylegan3/lerp.mp4 --trunc=1 --seeds=0-31 --grid=4x2 \\\n",
        "    --network=https://api.ngc.nvidia.com/v2/models/nvidia/research/stylegan3/versions/1/files/stylegan3-r-afhqv2-512x512.pkl\n"
      ],
      "metadata": {
        "id": "TQwHK6wKODFf"
      },
      "execution_count": null,
      "outputs": []
    },
    {
      "cell_type": "code",
      "source": [
        "!python stylegan3-tctr/generate.py images --available-layers --trunc=0.7 --seeds=600-605 --network=https://nvlabs-fi-cdn.nvidia.com/stylegan2-ada-pytorch/pretrained/metfaces.pkl\n"
      ],
      "metadata": {
        "id": "ixGWpPRj-brO"
      },
      "execution_count": null,
      "outputs": []
    },
    {
      "cell_type": "code",
      "source": [
        "!python stylegan3-tctr/generate.py images --outdir=/content/drive/MyDrive/out --layer=b1024.conv1 --rgb=true --trunc=0.7 --seeds=600-605 --network=https://nvlabs-fi-cdn.nvidia.com/stylegan2-ada-pytorch/pretrained/metfaces.pkl\n"
      ],
      "metadata": {
        "id": "Rm12xXJk_Xqc"
      },
      "execution_count": null,
      "outputs": []
    },
    {
      "cell_type": "code",
      "source": [
        "!python stylegan3-tctr/generate.py images --available-layers  --trunc=0.7 --seeds=2 \\\n",
        "    --network=https://api.ngc.nvidia.com/v2/models/nvidia/research/stylegan3/versions/1/files/stylegan3-r-afhqv2-512x512.pkl\n"
      ],
      "metadata": {
        "id": "pV13uKvn_s4j"
      },
      "execution_count": null,
      "outputs": []
    },
    {
      "cell_type": "code",
      "source": [
        "%%shell\n",
        "network='https://api.ngc.nvidia.com/v2/models/nvidia/research/stylegan3/versions/1/files/stylegan3-r-afhqv2-512x512.pkl'\n",
        "seed='2'\n",
        "\n",
        "layer='L1_36_1024'\n",
        "cli='python stylegan3-tctr/generate.py images --layer='$layer' --rgb=true --outdir=/content/drive/MyDrive/stylegan3-tctr --trunc=0.7 --seeds='$seed' --network='$network\n",
        "echo $cli\n",
        "eval $cli\n",
        "\n",
        "layer='L2_52_1024'\n",
        "cli='python stylegan3-tctr/generate.py images --layer='$layer' --rgb=true --outdir=/content/drive/MyDrive/stylegan3-tctr --trunc=0.7 --seeds='$seed' --network='$network\n",
        "echo $cli\n",
        "eval $cli\n",
        "\n",
        "layer='L3_52_1024'\n",
        "cli='python stylegan3-tctr/generate.py images --layer='$layer' --rgb=true --outdir=/content/drive/MyDrive/stylegan3-tctr --trunc=0.7 --seeds='$seed' --network='$network\n",
        "echo $cli\n",
        "eval $cli\n",
        "\n",
        "layer='L5_84_1024'\n",
        "cli='python stylegan3-tctr/generate.py images --layer='$layer' --rgb=true --outdir=/content/drive/MyDrive/stylegan3-tctr --trunc=0.7 --seeds='$seed' --network='$network\n",
        "echo $cli\n",
        "eval $cli\n",
        "\n",
        "layer='L6_148_1024'\n",
        "cli='python stylegan3-tctr/generate.py images --layer='$layer' --rgb=true --outdir=/content/drive/MyDrive/stylegan3-tctr --trunc=0.7 --seeds='$seed' --network='$network\n",
        "echo $cli\n",
        "eval $cli\n",
        "\n",
        "layer='L7_148_967'\n",
        "cli='python stylegan3-tctr/generate.py images --layer='$layer' --rgb=true --outdir=/content/drive/MyDrive/stylegan3-tctr --trunc=0.7 --seeds='$seed' --network='$network\n",
        "echo $cli\n",
        "eval $cli\n",
        "\n",
        "layer='L8_276_645'\n",
        "cli='python stylegan3-tctr/generate.py images --layer='$layer' --rgb=true --outdir=/content/drive/MyDrive/stylegan3-tctr --trunc=0.7 --seeds='$seed' --network='$network\n",
        "echo $cli\n",
        "eval $cli\n",
        "\n",
        "layer='L9_276_431'\n",
        "cli='python stylegan3-tctr/generate.py images --layer='$layer' --rgb=true --outdir=/content/drive/MyDrive/stylegan3-tctr --trunc=0.7 --seeds='$seed' --network='$network\n",
        "echo $cli\n",
        "eval $cli\n",
        "\n",
        "layer='L10_532_287'\n",
        "cli='python stylegan3-tctr/generate.py images --layer='$layer' --rgb=true --outdir=/content/drive/MyDrive/stylegan3-tctr --trunc=0.7 --seeds='$seed' --network='$network\n",
        "echo $cli\n",
        "eval $cli\n",
        "\n",
        "layer='L11_532_192'\n",
        "cli='python stylegan3-tctr/generate.py images --layer='$layer' --rgb=true --outdir=/content/drive/MyDrive/stylegan3-tctr --trunc=0.7 --seeds='$seed' --network='$network\n",
        "echo $cli\n",
        "eval $cli\n",
        "\n",
        "layer='L12_532_128'\n",
        "cli='python stylegan3-tctr/generate.py images --layer='$layer' --rgb=true --outdir=/content/drive/MyDrive/stylegan3-tctr --trunc=0.7 --seeds='$seed' --network='$network\n",
        "echo $cli\n",
        "eval $cli\n",
        "\n",
        "layer='L13_512_128'\n",
        "cli='python stylegan3-tctr/generate.py images --layer='$layer' --rgb=true --outdir=/content/drive/MyDrive/stylegan3-tctr --trunc=0.7 --seeds='$seed' --network='$network\n",
        "echo $cli\n",
        "eval $cli\n",
        "\n",
        "layer='L14_512_3'\n",
        "cli='python stylegan3-tctr/generate.py images --layer='$layer' --rgb=true --outdir=/content/drive/MyDrive/stylegan3-tctr --trunc=0.7 --seeds='$seed' --network='$network\n",
        "echo $cli\n",
        "eval $cli\n",
        "\n",
        "\n",
        "\n",
        "\n",
        "\n",
        "\n",
        "\n"
      ],
      "metadata": {
        "id": "miQ0ZknrROpB"
      },
      "execution_count": null,
      "outputs": []
    },
    {
      "cell_type": "code",
      "source": [],
      "metadata": {
        "id": "6lEQ_XnhQIDy"
      },
      "execution_count": null,
      "outputs": []
    },
    {
      "cell_type": "code",
      "source": [],
      "metadata": {
        "id": "F31T6ZjRQIZk"
      },
      "execution_count": null,
      "outputs": []
    },
    {
      "cell_type": "code",
      "source": [
        "!python stylegan3-tctr/generate.py images  --available-layers --trunc=0.7 --seeds=1000 \\\n",
        "    --network=https://api.ngc.nvidia.com/v2/models/nvidia/research/stylegan3/versions/1/files/stylegan3-t-metfacesu-1024x1024.pkl"
      ],
      "metadata": {
        "id": "KUvmTLcVM2o_"
      },
      "execution_count": null,
      "outputs": []
    },
    {
      "cell_type": "code",
      "source": [
        "!python stylegan3-tctr/generate.py images  --layer=L13_1024_32 --rgb=true --trunc=0.7 --seeds=1000 \\\n",
        "    --network=https://api.ngc.nvidia.com/v2/models/nvidia/research/stylegan3/versions/1/files/stylegan3-t-metfacesu-1024x1024.pkl"
      ],
      "metadata": {
        "id": "GN4bKFM2PrDr"
      },
      "execution_count": null,
      "outputs": []
    },
    {
      "cell_type": "code",
      "source": [
        "%%shell\n",
        "network='https://api.ngc.nvidia.com/v2/models/nvidia/research/stylegan3/versions/1/files/stylegan3-t-metfacesu-1024x1024.pkl'\n",
        "seed='10000'\n",
        "\n",
        "layer='L2_52_512'\n",
        "cli='python stylegan3-tctr/generate.py images --layer='$layer' --rgb=true --outdir=/content/drive/MyDrive/stylegan3-tctr --trunc=0.7 --seeds='$seed' --network='$network\n",
        "echo $cli\n",
        "eval $cli\n",
        "\n",
        "layer='L3_52_512'\n",
        "cli='python stylegan3-tctr/generate.py images --layer='$layer' --rgb=true --outdir=/content/drive/MyDrive/stylegan3-tctr --trunc=0.7 --seeds='$seed' --network='$network\n",
        "echo $cli\n",
        "eval $cli\n",
        "\n",
        "layer='L4_84_512'\n",
        "cli='python stylegan3-tctr/generate.py images --layer='$layer' --rgb=true --outdir=/content/drive/MyDrive/stylegan3-tctr --trunc=0.7 --seeds='$seed' --network='$network\n",
        "echo $cli\n",
        "eval $cli\n",
        "\n",
        "layer='L5_148_512'\n",
        "cli='python stylegan3-tctr/generate.py images --layer='$layer' --rgb=true --outdir=/content/drive/MyDrive/stylegan3-tctr --trunc=0.7 --seeds='$seed' --network='$network\n",
        "echo $cli\n",
        "eval $cli\n",
        "\n",
        "layer='L6_148_1024'\n",
        "cli='python stylegan3-tctr/generate.py images --layer='$layer' --rgb=true --outdir=/content/drive/MyDrive/stylegan3-tctr --trunc=0.7 --seeds='$seed' --network='$network\n",
        "echo $cli\n",
        "eval $cli\n",
        "\n",
        "layer='L7_276_323'\n",
        "cli='python stylegan3-tctr/generate.py images --layer='$layer' --rgb=true --outdir=/content/drive/MyDrive/stylegan3-tctr --trunc=0.7 --seeds='$seed' --network='$network\n",
        "echo $cli\n",
        "eval $cli\n",
        "\n",
        "layer='L8_276_645'\n",
        "cli='python stylegan3-tctr/generate.py images --layer='$layer' --rgb=true --outdir=/content/drive/MyDrive/stylegan3-tctr --trunc=0.7 --seeds='$seed' --network='$network\n",
        "echo $cli\n",
        "eval $cli\n",
        "\n",
        "layer='L9_532_128'\n",
        "cli='python stylegan3-tctr/generate.py images --layer='$layer' --rgb=true --outdir=/content/drive/MyDrive/stylegan3-tctr --trunc=0.7 --seeds='$seed' --network='$network\n",
        "echo $cli\n",
        "eval $cli\n",
        "\n",
        "layer='L10_1044_81'\n",
        "cli='python stylegan3-tctr/generate.py images --layer='$layer' --rgb=true --outdir=/content/drive/MyDrive/stylegan3-tctr --trunc=0.7 --seeds='$seed' --network='$network\n",
        "echo $cli\n",
        "eval $cli\n",
        "\n",
        "layer='L11_1044_51'\n",
        "cli='python stylegan3-tctr/generate.py images --layer='$layer' --rgb=true --outdir=/content/drive/MyDrive/stylegan3-tctr --trunc=0.7 --seeds='$seed' --network='$network\n",
        "echo $cli\n",
        "eval $cli\n",
        "\n",
        "layer='L12_1044_32'\n",
        "cli='python stylegan3-tctr/generate.py images --layer='$layer' --rgb=true --outdir=/content/drive/MyDrive/stylegan3-tctr --trunc=0.7 --seeds='$seed' --network='$network\n",
        "echo $cli\n",
        "eval $cli\n",
        "\n",
        "layer='L13_1024_32'\n",
        "cli='python stylegan3-tctr/generate.py images --layer='$layer' --rgb=true --outdir=/content/drive/MyDrive/stylegan3-tctr --trunc=0.7 --seeds='$seed' --network='$network\n",
        "echo $cli\n",
        "eval $cli\n",
        "\n",
        "layer='L14_1024_3'\n",
        "cli='python stylegan3-tctr/generate.py images --layer='$layer' --rgb=true --outdir=/content/drive/MyDrive/stylegan3-tctr --trunc=0.7 --seeds='$seed' --network='$network\n",
        "echo $cli\n",
        "eval $cli\n",
        "\n"
      ],
      "metadata": {
        "id": "bjfHUgqAQWXp"
      },
      "execution_count": null,
      "outputs": []
    },
    {
      "cell_type": "code",
      "source": [
        "!python stylegan3-tctr/generate.py images  --available-layers --trunc=0.7 --seeds=1000 \\\n",
        "    --network=https://api.ngc.nvidia.com/v2/models/nvidia/research/stylegan3/versions/1/files/stylegan3-t-ffhq-1024x1024.pkl"
      ],
      "metadata": {
        "id": "5D78GZEPVKct"
      },
      "execution_count": null,
      "outputs": []
    },
    {
      "cell_type": "code",
      "source": [
        "%%shell\n",
        "network='https://api.ngc.nvidia.com/v2/models/nvidia/research/stylegan3/versions/1/files/stylegan3-t-ffhq-1024x1024.pkl'\n",
        "seed='1000'\n",
        "trunc='1.0'\n",
        "\n",
        "cli='python stylegan3-tctr/generate.py images --rgb=true  --outdir=/content/drive/MyDrive/stylegan3-tctr --trunc='$trunc' --seeds='$seed' --network='$network\n",
        "echo $cli\n",
        "eval $cli"
      ],
      "metadata": {
        "id": "H0sEtJ3n8H38"
      },
      "execution_count": null,
      "outputs": []
    },
    {
      "cell_type": "code",
      "source": [
        "%%shell\n",
        "network='https://api.ngc.nvidia.com/v2/models/nvidia/research/stylegan3/versions/1/files/stylegan3-t-ffhq-1024x1024.pkl'\n",
        "seed='1001'\n",
        "trunc='1.0'\n",
        "img_normalize=false # true => less saturated images\n",
        "#img_scale_db=-10\n",
        "img_scale_db=10\n",
        "#img_scale_db=30\n",
        "#img_scale_db=40\n",
        "\n",
        "cli='python stylegan3-tctr/generate.py images --rgb=true  --outdir=/content/drive/MyDrive/stylegan3-tctr --trunc='$trunc' --seeds='$seed' --network='$network\n",
        "echo $cli\n",
        "eval $cli\n",
        "\n",
        "#layer='L2_52_512'\n",
        "#cli='python stylegan3-tctr/generate.py images --layer='$layer' --rgb=true --img-normalize='$img_normalize' --img-scale-db='$img_scale_db' --outdir=/content/drive/MyDrive/stylegan3-tctr --trunc='$trunc' --seeds='$seed' --network='$network\n",
        "#echo $cli\n",
        "#eval $cli\n",
        "\n",
        "#layer='L3_52_512'\n",
        "#cli='python stylegan3-tctr/generate.py images --layer='$layer' --rgb=true --img-normalize='$img_normalize' --img-scale-db='$img_scale_db' --outdir=/content/drive/MyDrive/stylegan3-tctr --trunc='$trunc'  --seeds='$seed' --network='$network\n",
        "#echo $cli\n",
        "#eval $cli\n",
        "\n",
        "#layer='L4_84_512'\n",
        "#cli='python stylegan3-tctr/generate.py images --layer='$layer' --rgb=true --img-normalize='$img_normalize' --img-scale-db='$img_scale_db' --outdir=/content/drive/MyDrive/stylegan3-tctr --trunc='$trunc'  --seeds='$seed' --network='$network\n",
        "#echo $cli\n",
        "#eval $cli\n",
        "\n",
        "layer='L5_148_512'\n",
        "cli='python stylegan3-tctr/generate.py images --layer='$layer' --rgb=true --img-normalize='$img_normalize' --img-scale-db='$img_scale_db' --outdir=/content/drive/MyDrive/stylegan3-tctr --trunc='$trunc'  --seeds='$seed' --network='$network\n",
        "echo $cli\n",
        "eval $cli\n",
        "\n",
        "layer='L6_148_512'\n",
        "cli='python stylegan3-tctr/generate.py images --layer='$layer' --rgb=true --img-normalize='$img_normalize' --img-scale-db='$img_scale_db' --outdir=/content/drive/MyDrive/stylegan3-tctr --trunc='$trunc'  --seeds='$seed' --network='$network\n",
        "echo $cli\n",
        "eval $cli\n",
        "\n",
        "layer='L7_276_323'\n",
        "cli='python stylegan3-tctr/generate.py images --layer='$layer' --rgb=true --img-normalize='$img_normalize' --img-scale-db='$img_scale_db' --outdir=/content/drive/MyDrive/stylegan3-tctr --trunc='$trunc'  --seeds='$seed' --network='$network\n",
        "echo $cli\n",
        "eval $cli\n",
        "\n",
        "layer='L8_276_203'\n",
        "cli='python stylegan3-tctr/generate.py images --layer='$layer' --rgb=true --img-normalize='$img_normalize' --img-scale-db='$img_scale_db' --outdir=/content/drive/MyDrive/stylegan3-tctr --trunc='$trunc'  --seeds='$seed' --network='$network\n",
        "echo $cli\n",
        "eval $cli\n",
        "\n",
        "layer='L9_532_128'\n",
        "cli='python stylegan3-tctr/generate.py images --layer='$layer' --rgb=true --img-normalize='$img_normalize' --img-scale-db='$img_scale_db' --outdir=/content/drive/MyDrive/stylegan3-tctr --trunc='$trunc'  --seeds='$seed' --network='$network\n",
        "echo $cli\n",
        "eval $cli\n",
        "\n",
        "layer='L10_1044_81'\n",
        "cli='python stylegan3-tctr/generate.py images --layer='$layer' --rgb=true --img-normalize='$img_normalize' --img-scale-db='$img_scale_db' --outdir=/content/drive/MyDrive/stylegan3-tctr --trunc='$trunc'  --seeds='$seed' --network='$network\n",
        "echo $cli\n",
        "eval $cli\n",
        "\n",
        "layer='L11_1044_51'\n",
        "cli='python stylegan3-tctr/generate.py images --layer='$layer' --rgb=true --img-normalize='$img_normalize' --img-scale-db='$img_scale_db' --outdir=/content/drive/MyDrive/stylegan3-tctr --trunc='$trunc'  --seeds='$seed' --network='$network\n",
        "echo $cli\n",
        "eval $cli\n",
        "\n",
        "layer='L12_1044_32'\n",
        "cli='python stylegan3-tctr/generate.py images --layer='$layer' --rgb=true --img-normalize='$img_normalize' --img-scale-db='$img_scale_db' --outdir=/content/drive/MyDrive/stylegan3-tctr --trunc='$trunc'  --seeds='$seed' --network='$network\n",
        "echo $cli\n",
        "eval $cli\n",
        "\n",
        "layer='L13_1024_32'\n",
        "cli='python stylegan3-tctr/generate.py images --layer='$layer' --rgb=true --img-normalize='$img_normalize' --img-scale-db='$img_scale_db' --outdir=/content/drive/MyDrive/stylegan3-tctr --trunc='$trunc'  --seeds='$seed' --network='$network\n",
        "echo $cli\n",
        "eval $cli\n",
        "\n",
        "layer='L14_1024_3'\n",
        "cli='python stylegan3-tctr/generate.py images --layer='$layer' --rgb=true --img-normalize='$img_normalize' --img-scale-db='$img_scale_db' --outdir=/content/drive/MyDrive/stylegan3-tctr --trunc='$trunc'  --seeds='$seed' --network='$network\n",
        "echo $cli\n",
        "eval $cli"
      ],
      "metadata": {
        "id": "FYO3dE8_wRLx"
      },
      "execution_count": null,
      "outputs": []
    },
    {
      "cell_type": "code",
      "source": [
        "%%shell\n",
        "network='https://api.ngc.nvidia.com/v2/models/nvidia/research/stylegan3/versions/1/files/stylegan3-r-ffhq-1024x1024.pkl'\n",
        "seed='1000'\n",
        "trunc='1.0'\n",
        "\n",
        "layer='L2_52_1024'\n",
        "cli='python stylegan3-tctr/generate.py images --layer='$layer' --rgb=true --outdir=/content/drive/MyDrive/stylegan3-tctr --trunc='$trunc' --seeds='$seed' --network='$network\n",
        "echo $cli\n",
        "eval $cli\n",
        "\n",
        "layer='L3_52_1024'\n",
        "cli='python stylegan3-tctr/generate.py images --layer='$layer' --rgb=true --outdir=/content/drive/MyDrive/stylegan3-tctr --trunc='$trunc'  --seeds='$seed' --network='$network\n",
        "echo $cli\n",
        "eval $cli\n",
        "\n",
        "layer='L4_84_1024'\n",
        "cli='python stylegan3-tctr/generate.py images --layer='$layer' --rgb=true --outdir=/content/drive/MyDrive/stylegan3-tctr --trunc='$trunc'  --seeds='$seed' --network='$network\n",
        "echo $cli\n",
        "eval $cli\n",
        "\n",
        "layer='L5_148_1024'\n",
        "cli='python stylegan3-tctr/generate.py images --layer='$layer' --rgb=true --outdir=/content/drive/MyDrive/stylegan3-tctr --trunc='$trunc'  --seeds='$seed' --network='$network\n",
        "echo $cli\n",
        "eval $cli\n",
        "\n",
        "layer='L6_148_1024'\n",
        "cli='python stylegan3-tctr/generate.py images --layer='$layer' --rgb=true --outdir=/content/drive/MyDrive/stylegan3-tctr --trunc='$trunc'  --seeds='$seed' --network='$network\n",
        "echo $cli\n",
        "eval $cli\n",
        "\n",
        "layer='L7_276_645'\n",
        "cli='python stylegan3-tctr/generate.py images --layer='$layer' --rgb=true --outdir=/content/drive/MyDrive/stylegan3-tctr --trunc='$trunc'  --seeds='$seed' --network='$network\n",
        "echo $cli\n",
        "eval $cli\n",
        "\n",
        "layer='L8_276_406'\n",
        "cli='python stylegan3-tctr/generate.py images --layer='$layer' --rgb=true --outdir=/content/drive/MyDrive/stylegan3-tctr --trunc='$trunc'  --seeds='$seed' --network='$network\n",
        "echo $cli\n",
        "eval $cli\n",
        "\n",
        "layer='L9_532_256'\n",
        "cli='python stylegan3-tctr/generate.py images --layer='$layer' --rgb=true --outdir=/content/drive/MyDrive/stylegan3-tctr --trunc='$trunc'  --seeds='$seed' --network='$network\n",
        "echo $cli\n",
        "eval $cli\n",
        "\n",
        "layer='L10_1044_161'\n",
        "cli='python stylegan3-tctr/generate.py images --layer='$layer' --rgb=true --outdir=/content/drive/MyDrive/stylegan3-tctr --trunc='$trunc'  --seeds='$seed' --network='$network\n",
        "echo $cli\n",
        "eval $cli\n",
        "\n",
        "layer='L11_1044_102'\n",
        "cli='python stylegan3-tctr/generate.py images --layer='$layer' --rgb=true --outdir=/content/drive/MyDrive/stylegan3-tctr --trunc='$trunc'  --seeds='$seed' --network='$network\n",
        "echo $cli\n",
        "eval $cli\n",
        "\n",
        "layer='L12_1044_64'\n",
        "cli='python stylegan3-tctr/generate.py images --layer='$layer' --rgb=true --outdir=/content/drive/MyDrive/stylegan3-tctr --trunc='$trunc'  --seeds='$seed' --network='$network\n",
        "echo $cli\n",
        "eval $cli\n",
        "\n",
        "layer='L13_1024_64'\n",
        "cli='python stylegan3-tctr/generate.py images --layer='$layer' --rgb=true --outdir=/content/drive/MyDrive/stylegan3-tctr --trunc='$trunc'  --seeds='$seed' --network='$network\n",
        "echo $cli\n",
        "eval $cli\n",
        "\n",
        "layer='L14_1024_3'\n",
        "cli='python stylegan3-tctr/generate.py images --layer='$layer' --rgb=true --outdir=/content/drive/MyDrive/stylegan3-tctr --trunc='$trunc'  --seeds='$seed' --network='$network\n",
        "echo $cli\n",
        "eval $cli\n"
      ],
      "metadata": {
        "id": "T62Wcz55YW8b"
      },
      "execution_count": null,
      "outputs": []
    },
    {
      "cell_type": "code",
      "source": [
        "%%shell\n",
        "network='https://api.ngc.nvidia.com/v2/models/nvidia/research/stylegan3/versions/1/files/stylegan3-r-ffhq-1024x1024.pkl'\n",
        "layer='L11_1044_102'\n",
        "\n",
        "seed='2'\n",
        "cli='python stylegan3-tctr/generate.py images --layer='$layer' --rgb=true --outdir=/content/drive/MyDrive/stylegan3-tctr --trunc=0.7 --seeds='$seed' --network='$network\n",
        "echo $cli\n",
        "eval $cli\n",
        "\n",
        "\n",
        "seed='10'\n",
        "cli='python stylegan3-tctr/generate.py images --layer='$layer' --rgb=true --outdir=/content/drive/MyDrive/stylegan3-tctr --trunc=0.7 --seeds='$seed' --network='$network\n",
        "echo $cli\n",
        "eval $cli\n",
        "\n",
        "seed='100'\n",
        "cli='python stylegan3-tctr/generate.py images --layer='$layer' --rgb=true --outdir=/content/drive/MyDrive/stylegan3-tctr --trunc=0.7 --seeds='$seed' --network='$network\n",
        "echo $cli\n",
        "eval $cli\n",
        "\n",
        "seed='10000'\n",
        "cli='python stylegan3-tctr/generate.py images --layer='$layer' --rgb=true --outdir=/content/drive/MyDrive/stylegan3-tctr --trunc=0.7 --seeds='$seed' --network='$network\n",
        "echo $cli\n",
        "eval $cli\n",
        "\n",
        "seed='100000'\n",
        "cli='python stylegan3-tctr/generate.py images --layer='$layer' --rgb=true --outdir=/content/drive/MyDrive/stylegan3-tctr --trunc=0.7 --seeds='$seed' --network='$network\n",
        "echo $cli\n",
        "eval $cli\n",
        "\n",
        "seed='1000000'\n",
        "cli='python stylegan3-tctr/generate.py images --layer='$layer' --rgb=true --outdir=/content/drive/MyDrive/stylegan3-tctr --trunc=0.7 --seeds='$seed' --network='$network\n",
        "echo $cli\n",
        "eval $cli\n",
        "\n"
      ],
      "metadata": {
        "id": "x3u7QXisa_D0"
      },
      "execution_count": null,
      "outputs": []
    }
  ]
}