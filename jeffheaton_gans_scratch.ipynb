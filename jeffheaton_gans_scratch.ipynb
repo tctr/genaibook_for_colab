{
  "cells": [
    {
      "cell_type": "markdown",
      "metadata": {
        "id": "4mB_sFildiDh"
      },
      "source": [
        "<a href=\"https://colab.research.google.com/github/jeffheaton/present/blob/master/youtube/gan/gans_scratch.ipynb\" target=\"_parent\"><img src=\"https://colab.research.google.com/assets/colab-badge.svg\" alt=\"Open In Colab\"/></a>"
      ]
    },
    {
      "cell_type": "markdown",
      "metadata": {
        "id": "303iHntmdiDj"
      },
      "source": [
        "# Creating GANs From Scratch\n",
        "\n",
        "* [Jeff Heaton](https://sites.wustl.edu/jeffheaton/), McKelvey School of Engineering, [Washington University in St. Louis](https://engineering.wustl.edu/Programs/Pages/default.aspx)\n",
        "* Video: [GANs from Scratch](https://www.youtube.com/watch?v=T-MCludVNn4)"
      ]
    },
    {
      "cell_type": "code",
      "execution_count": 1,
      "metadata": {
        "id": "zgMWBuf61OmL"
      },
      "outputs": [],
      "source": [
        "# Nicely formatted time string\n",
        "def hms_string(sec_elapsed):\n",
        "    h = int(sec_elapsed / (60 * 60))\n",
        "    m = int((sec_elapsed % (60 * 60)) / 60)\n",
        "    s = sec_elapsed % 60\n",
        "    return \"{}:{:>02}:{:>05.2f}\".format(h, m, s)"
      ]
    },
    {
      "cell_type": "markdown",
      "metadata": {
        "id": "1yqlUD4sdiDk"
      },
      "source": [
        "# Implementing DCGANs in Keras\n",
        "\n",
        "Paper that described the type of DCGAN that we will create in this module. [[Cite:radford2015unsupervised]](https://arxiv.org/abs/1511.06434) This paper implements a DCGAN as follows:\n",
        "\n",
        "* No pre-processing was applied to training images besides scaling to the range of the tanh activation function [-1, 1].\n",
        "* All models were trained with mini-batch stochastic gradient descent (SGD) with a mini-batch size of 128.\n",
        "* All weights were initialized from a zero-centered Normal distribution with standard deviation 0.02.\n",
        "* In the LeakyReLU, the slope of the leak was set to 0.2 in all models.\n",
        "* we used the Adam optimizer(Kingma & Ba, 2014) with tuned hyperparameters. We found the suggested learning rate of 0.001, to be too high, using 0.0002 instead.\n",
        "* Additionally, we found leaving the momentum term $\\beta{1}$ at the suggested value of 0.9 resulted in training oscillation and instability while reducing it to 0.5 helped stabilize training.\n",
        "\n",
        "The paper also provides the following architecture guidelines for stable Deep Convolutional GANs:\n",
        "\n",
        "* Replace any pooling layers with strided convolutions (discriminator) and fractional-strided convolutions (generator).\n",
        "* Use batchnorm in both the generator and the discriminator.\n",
        "* Remove fully connected hidden layers for deeper architectures.\n",
        "* Use ReLU activation in generator for all layers except for the output, which uses Tanh.\n",
        "* Use LeakyReLU activation in the discriminator for all layers.\n",
        "\n",
        "While creating the material for this module I used a number of Internet resources, some of the most helpful were:\n",
        "\n",
        "* [Deep Convolutional Generative Adversarial Network (TensorFlow 2.0 example code)](https://www.tensorflow.org/tutorials/generative/dcgan)\n",
        "* [Keep Calm and train a GAN. Pitfalls and Tips on training Generative Adversarial Networks](https://medium.com/@utk.is.here/keep-calm-and-train-a-gan-pitfalls-and-tips-on-training-generative-adversarial-networks-edd529764aa9)\n",
        "* [Collection of Keras implementations of Generative Adversarial Networks GANs](https://github.com/eriklindernoren/Keras-GAN)\n",
        "* [dcgan-facegenerator](https://github.com/platonovsimeon/dcgan-facegenerator), [Semi-Paywalled Article by GitHub Author](https://medium.com/datadriveninvestor/generating-human-faces-with-keras-3ccd54c17f16)\n",
        "\n",
        "The program created next will generate faces similar to these.  While these faces are not perfect, they demonstrate how we can construct and train a GAN on or own.  Later we will see how to import very advanced weights from nVidia to produce high resolution, realistic looking faces. Figure 7.GAN-GRID shows images from GAN training.\n",
        "\n",
        "**Figure 7.GAN-GRID: GAN Neural Network Training**\n",
        "![GAN](https://raw.githubusercontent.com/jeffheaton/t81_558_deep_learning/master/images/gan-3.png \"GAN Images\")\n",
        "\n",
        "As discussed in the previous module, the GAN is made up of two different neural networks: the discriminator and the generator.  The generator generates the images, while the discriminator detects if a face is real or was generated.  These two neural networks work as shown in Figure 7.GAN-EVAL:\n",
        "\n",
        "**Figure 7.GAN-EVAL: Evaluating GANs**\n",
        "![GAN](https://raw.githubusercontent.com/jeffheaton/t81_558_deep_learning/master/images/gan_fig_1.png \"GAN\")\n",
        "\n",
        "The discriminator accepts an image as its input and produces number that is the probability of the input image being real.  The generator accepts a random seed vector and generates an image from that random vector seed. An unlimited number of new images can be created by providing additional seeds."
      ]
    },
    {
      "cell_type": "markdown",
      "metadata": {
        "id": "SpCjlQyEdiDo"
      },
      "source": [
        "I suggest running this code with a GPU, it will be very slow on a CPU alone.  The following code mounts your Google drive for use with Google CoLab.  If you are not using CoLab, the following code will not work."
      ]
    },
    {
      "cell_type": "code",
      "execution_count": 2,
      "metadata": {
        "colab": {
          "base_uri": "https://localhost:8080/"
        },
        "id": "Y8_-1h5ddiDp",
        "outputId": "f350f1b0-6fe9-4c9f-82eb-166849a5334b"
      },
      "outputs": [
        {
          "output_type": "stream",
          "name": "stdout",
          "text": [
            "Mounted at /content/drive\n",
            "Note: using Google CoLab\n",
            "Colab only includes TensorFlow 2.x; %tensorflow_version has no effect.\n"
          ]
        }
      ],
      "source": [
        "\n",
        "try:\n",
        "    from google.colab import drive\n",
        "    drive.mount('/content/drive', force_remount=True)\n",
        "    COLAB = True\n",
        "    print(\"Note: using Google CoLab\")\n",
        "    %tensorflow_version 2.x\n",
        "except:\n",
        "    print(\"Note: not using Google CoLab\")\n",
        "    COLAB = False"
      ]
    },
    {
      "cell_type": "markdown",
      "metadata": {
        "id": "BeVAWGHOdiDl"
      },
      "source": [
        "The following packages will be used to implement a basic GAN system in Python/Keras."
      ]
    },
    {
      "cell_type": "code",
      "execution_count": 3,
      "metadata": {
        "id": "KubxTY1mdiDm"
      },
      "outputs": [],
      "source": [
        "import tensorflow as tf\n",
        "from tensorflow.keras.layers import Input, Reshape, Dropout, Dense\n",
        "from tensorflow.keras.layers import Flatten, BatchNormalization\n",
        "from tensorflow.keras.layers import Activation, ZeroPadding2D\n",
        "from tensorflow.keras.layers import LeakyReLU\n",
        "from tensorflow.keras.layers import UpSampling2D, Conv2D\n",
        "from tensorflow.keras.models import Sequential, Model, load_model\n",
        "from tensorflow.keras.optimizers import Adam\n",
        "import numpy as np\n",
        "from PIL import Image\n",
        "from tqdm import tqdm\n",
        "import os\n",
        "import time\n",
        "import matplotlib.pyplot as plt"
      ]
    },
    {
      "cell_type": "markdown",
      "metadata": {
        "id": "X9uwIRYJdiDr"
      },
      "source": [
        "These are the constants that define how the GANs will be created for this example.  The higher the resolution, the more memory that will be needed.  Higher resolution will also result in longer run times.  For Google CoLab (with GPU) 128x128 resolution is as high as can be used (due to memory).  Note that the resolution is specified as a multiple of 32.  So **GENERATE_RES** of 1 is 32, 2 is 64, etc.\n",
        "\n",
        "To run this you will need training data.  The training data can be any collection of images.  I have used various sources of data for this example over the years.  Data sources sometimes become unavailable for copyright reasons. I have one sample source listed below.  Simply unzip and combine to a common directory.  This directory should be uploaded to Google Drive (if you are using CoLab). The constant **DATA_PATH** defines where these images are stored.\n",
        "\n",
        "One sample dataset of faces can be found here:\n",
        "\n",
        "* [Kaggle Faces Data New](https://www.kaggle.com/gasgallo/faces-data-new)"
      ]
    },
    {
      "cell_type": "code",
      "execution_count": 5,
      "metadata": {
        "colab": {
          "base_uri": "https://localhost:8080/"
        },
        "id": "tb_XblE7diDr",
        "outputId": "896695f4-ddf1-4e9d-b09f-0c9239dba1ac"
      },
      "outputs": [
        {
          "output_type": "stream",
          "name": "stdout",
          "text": [
            "Will generate 96px square images.\n"
          ]
        }
      ],
      "source": [
        "# Generation resolution - Must be square\n",
        "# Training data is also scaled to this.\n",
        "# Note GENERATE_RES 4 or higher\n",
        "# will blow Google CoLab's memory and have not\n",
        "# been tested extensivly.\n",
        "GENERATE_RES = 3 # Generation resolution factor. => 3 with faces\n",
        "# (1=32, 2=64, 3=96, 4=128, etc.)\n",
        "GENERATE_SQUARE = 32 * GENERATE_RES # rows/cols (should be square)\n",
        "IMAGE_CHANNELS = 3\n",
        "\n",
        "# Preview image\n",
        "PREVIEW_ROWS = 4\n",
        "PREVIEW_COLS = 7\n",
        "PREVIEW_MARGIN = 16\n",
        "\n",
        "# Size vector to generate images from\n",
        "SEED_SIZE = 100 #for faces\n",
        "\n",
        "# Configuration\n",
        "DATA_PATH = '/content/drive/My Drive/projects/faces'\n",
        "EPOCHS = 150\n",
        "BATCH_SIZE = 32 #with faces\n",
        "BUFFER_SIZE = 60000\n",
        "\n",
        "print(f\"Will generate {GENERATE_SQUARE}px square images.\")"
      ]
    },
    {
      "cell_type": "markdown",
      "metadata": {
        "id": "oDTfFQjTdiDu"
      },
      "source": [
        "Next we will load and preprocess the images.  This can take awhile.  Google CoLab took around an hour to process.  Because of this we store the processed file as a binary.  This way we can simply reload the processed training data and quickly use it.  It is most efficient to only perform this operation once.  The dimensions of the image are encoded into the filename of the binary file because we need to regenerate it if these change."
      ]
    },
    {
      "cell_type": "code",
      "execution_count": 6,
      "metadata": {
        "colab": {
          "base_uri": "https://localhost:8080/"
        },
        "id": "dJ69ALfSdiDv",
        "outputId": "4de04b1e-8ca2-41ae-8c6d-b018cf85db63"
      },
      "outputs": [
        {
          "output_type": "stream",
          "name": "stdout",
          "text": [
            "Looking for file: /content/drive/My Drive/projects/faces/training_data_96_96.npy\n"
          ]
        }
      ],
      "source": [
        "# Image set has 11,682 images.  Can take over an hour\n",
        "# for initial preprocessing.\n",
        "# Because of this time needed, save a Numpy preprocessed file.\n",
        "# Note, that file is large enough to cause problems for\n",
        "# sume verisons of Pickle,\n",
        "# so Numpy binary files are used.\n",
        "training_binary_path = os.path.join(DATA_PATH,\n",
        "        f'training_data_{GENERATE_SQUARE}_{GENERATE_SQUARE}.npy')\n",
        "\n",
        "print(f\"Looking for file: {training_binary_path}\")\n",
        "\n",
        "\n"
      ]
    },
    {
      "cell_type": "code",
      "source": [
        "\n",
        "if not os.path.isfile(training_binary_path):\n",
        "  start = time.time()\n",
        "  print(\"Loading training images...\")\n",
        "\n",
        "  training_data = []\n",
        "  images_path = os.path.join(DATA_PATH)#,'images1')\n",
        "  for filename in tqdm(os.listdir(images_path)):\n",
        "      path = os.path.join(images_path,filename)\n",
        "      image = Image.open(path).resize((GENERATE_SQUARE,\n",
        "            GENERATE_SQUARE),Image.ANTIALIAS)\n",
        "      training_data.append(np.asarray(image))\n",
        "  training_data = np.reshape(training_data,(-1,GENERATE_SQUARE,\n",
        "            GENERATE_SQUARE,IMAGE_CHANNELS))\n",
        "  training_data = training_data.astype(np.float32)\n",
        "  training_data = training_data / 127.5 - 1.\n",
        "\n",
        "  print(\"Saving training image binary...\")\n",
        "  np.save(training_binary_path,training_data)\n",
        "  elapsed = time.time()-start\n",
        "  #print (f'Image preprocess time: {hms_string(elapsed)}')\n",
        "else:\n",
        "  print(\"Loading previous training pickle...\")\n",
        "  training_data = np.load(training_binary_path)\n",
        "  print(training_binary_path)\n"
      ],
      "metadata": {
        "colab": {
          "base_uri": "https://localhost:8080/"
        },
        "id": "cp4HEsHm1OJC",
        "outputId": "452f9fa1-a4ba-4d5d-aa11-e076416db4d6"
      },
      "execution_count": 8,
      "outputs": [
        {
          "output_type": "stream",
          "name": "stdout",
          "text": [
            "Loading previous training pickle...\n",
            "/content/drive/My Drive/projects/faces/training_data_96_96.npy\n"
          ]
        }
      ]
    },
    {
      "cell_type": "markdown",
      "metadata": {
        "id": "Y9kO_iSRyixQ"
      },
      "source": [
        "We will use a TensorFlow **Dataset** object to actually hold the images.  This allows the data to be quickly shuffled int divided into the appropriate batch sizes for training.  "
      ]
    },
    {
      "cell_type": "code",
      "execution_count": 9,
      "metadata": {
        "id": "BXl0JohJBx69"
      },
      "outputs": [],
      "source": [
        "# Batch and shuffle the data\n",
        "train_dataset = tf.data.Dataset.from_tensor_slices(training_data) \\\n",
        "    .shuffle(BUFFER_SIZE).batch(BATCH_SIZE)"
      ]
    },
    {
      "cell_type": "markdown",
      "metadata": {
        "id": "2dATyXqQdiDw"
      },
      "source": [
        "The code below creates the generator and discriminator."
      ]
    },
    {
      "cell_type": "markdown",
      "metadata": {
        "id": "zB_aX4ChdiD0"
      },
      "source": [
        "Next we actually build the discriminator and the generator.  Both will be trained with the Adam optimizer."
      ]
    },
    {
      "cell_type": "code",
      "execution_count": 10,
      "metadata": {
        "id": "Ulou-BZPybzT"
      },
      "outputs": [],
      "source": [
        "def build_generator(seed_size, channels):\n",
        "    model = Sequential()\n",
        "\n",
        "    model.add(Dense(4*4*256,activation=\"relu\",input_dim=seed_size))\n",
        "    model.add(Reshape((4,4,256)))\n",
        "\n",
        "    model.add(UpSampling2D())\n",
        "    model.add(Conv2D(256,kernel_size=3,padding=\"same\"))\n",
        "    model.add(BatchNormalization(momentum=0.8))\n",
        "    model.add(Activation(\"relu\"))\n",
        "\n",
        "    model.add(UpSampling2D())\n",
        "    model.add(Conv2D(256,kernel_size=3,padding=\"same\"))\n",
        "    model.add(BatchNormalization(momentum=0.8))\n",
        "    model.add(Activation(\"relu\"))\n",
        "\n",
        "    # Output resolution, additional upsampling\n",
        "    model.add(UpSampling2D())\n",
        "    model.add(Conv2D(128,kernel_size=3,padding=\"same\"))\n",
        "    model.add(BatchNormalization(momentum=0.8))\n",
        "    model.add(Activation(\"relu\"))\n",
        "\n",
        "    if GENERATE_RES>1:\n",
        "      model.add(UpSampling2D(size=(GENERATE_RES,GENERATE_RES)))\n",
        "      model.add(Conv2D(128,kernel_size=3,padding=\"same\"))\n",
        "      model.add(BatchNormalization(momentum=0.8))\n",
        "      model.add(Activation(\"relu\"))\n",
        "\n",
        "    # Final CNN layer\n",
        "    model.add(Conv2D(channels,kernel_size=3,padding=\"same\"))\n",
        "    model.add(Activation(\"tanh\"))\n",
        "\n",
        "    return model\n",
        "\n",
        "\n",
        "def build_discriminator(image_shape):\n",
        "    model = Sequential()\n",
        "\n",
        "    model.add(Conv2D(32, kernel_size=3, strides=2, input_shape=image_shape,\n",
        "                     padding=\"same\"))\n",
        "    model.add(LeakyReLU(alpha=0.2))\n",
        "\n",
        "    model.add(Dropout(0.25))\n",
        "    model.add(Conv2D(64, kernel_size=3, strides=2, padding=\"same\"))\n",
        "    model.add(ZeroPadding2D(padding=((0,1),(0,1))))\n",
        "    model.add(BatchNormalization(momentum=0.8))\n",
        "    model.add(LeakyReLU(alpha=0.2))\n",
        "\n",
        "    model.add(Dropout(0.25))\n",
        "    model.add(Conv2D(128, kernel_size=3, strides=2, padding=\"same\"))\n",
        "    model.add(BatchNormalization(momentum=0.8))\n",
        "    model.add(LeakyReLU(alpha=0.2))\n",
        "\n",
        "    model.add(Dropout(0.25))\n",
        "    model.add(Conv2D(256, kernel_size=3, strides=1, padding=\"same\"))\n",
        "    model.add(BatchNormalization(momentum=0.8))\n",
        "    model.add(LeakyReLU(alpha=0.2))\n",
        "\n",
        "    model.add(Dropout(0.25))\n",
        "    model.add(Conv2D(512, kernel_size=3, strides=1, padding=\"same\"))\n",
        "    model.add(BatchNormalization(momentum=0.8))\n",
        "    model.add(LeakyReLU(alpha=0.2))\n",
        "\n",
        "    model.add(Dropout(0.25))\n",
        "    model.add(Flatten())\n",
        "    model.add(Dense(1, activation='sigmoid'))\n",
        "\n",
        "    return model"
      ]
    },
    {
      "cell_type": "markdown",
      "metadata": {
        "id": "2kxKk7uDOnPS"
      },
      "source": [
        "As we progress through training images will be produced to show the progress.  These images will contain a number of rendered faces that show how good the generator has become.  These faces will be"
      ]
    },
    {
      "cell_type": "code",
      "execution_count": 11,
      "metadata": {
        "id": "UKnCeDut2cp0"
      },
      "outputs": [],
      "source": [
        "def save_images(cnt,noise):\n",
        "  image_array = np.full((\n",
        "      PREVIEW_MARGIN + (PREVIEW_ROWS * (GENERATE_SQUARE+PREVIEW_MARGIN)),\n",
        "      PREVIEW_MARGIN + (PREVIEW_COLS * (GENERATE_SQUARE+PREVIEW_MARGIN)), IMAGE_CHANNELS),\n",
        "      255, dtype=np.uint8)\n",
        "\n",
        "  generated_images = generator.predict(noise)\n",
        "\n",
        "  generated_images = 0.5 * generated_images + 0.5\n",
        "\n",
        "  image_count = 0\n",
        "  for row in range(PREVIEW_ROWS):\n",
        "      for col in range(PREVIEW_COLS):\n",
        "        r = row * (GENERATE_SQUARE+16) + PREVIEW_MARGIN\n",
        "        c = col * (GENERATE_SQUARE+16) + PREVIEW_MARGIN\n",
        "        image_array[r:r+GENERATE_SQUARE,c:c+GENERATE_SQUARE] \\\n",
        "            = generated_images[image_count] * 255\n",
        "        image_count += 1\n",
        "\n",
        "\n",
        "  output_path = os.path.join(DATA_PATH,'output')\n",
        "  if not os.path.exists(output_path):\n",
        "    os.makedirs(output_path)\n",
        "\n",
        "  filename = os.path.join(output_path,f\"train-{cnt}.png\")\n",
        "  im = Image.fromarray(image_array)\n",
        "  im.save(filename)\n",
        ""
      ]
    },
    {
      "cell_type": "markdown",
      "metadata": {
        "id": "XiUbj3W4Oo3U"
      },
      "source": []
    },
    {
      "cell_type": "code",
      "execution_count": 12,
      "metadata": {
        "colab": {
          "base_uri": "https://localhost:8080/",
          "height": 450
        },
        "id": "gL5byGhNzOzd",
        "outputId": "3bab340a-ccfe-4393-fa3f-e5044af5ec62"
      },
      "outputs": [
        {
          "output_type": "execute_result",
          "data": {
            "text/plain": [
              "<matplotlib.image.AxesImage at 0x7bdf8b734f70>"
            ]
          },
          "metadata": {},
          "execution_count": 12
        },
        {
          "output_type": "display_data",
          "data": {
            "text/plain": [
              "<Figure size 640x480 with 1 Axes>"
            ],
            "image/png": "[encoded data removed]"
          },
          "metadata": {}
        }
      ],
      "source": [
        "generator = build_generator(SEED_SIZE, IMAGE_CHANNELS)\n",
        "\n",
        "noise = tf.random.normal([1, SEED_SIZE])\n",
        "generated_image = generator(noise, training=False)\n",
        "\n",
        "plt.imshow(generated_image[0, :, :, 0])"
      ]
    },
    {
      "cell_type": "markdown",
      "metadata": {
        "id": "nlxxEHDIOqjW"
      },
      "source": []
    },
    {
      "cell_type": "code",
      "execution_count": 13,
      "metadata": {
        "colab": {
          "base_uri": "https://localhost:8080/"
        },
        "id": "LOnTxIXnyeEQ",
        "outputId": "b648e738-5a74-48dc-becc-1d91b7127d72"
      },
      "outputs": [
        {
          "output_type": "stream",
          "name": "stdout",
          "text": [
            "tf.Tensor([[0.49989155]], shape=(1, 1), dtype=float32)\n"
          ]
        }
      ],
      "source": [
        "image_shape = (GENERATE_SQUARE,GENERATE_SQUARE,IMAGE_CHANNELS)\n",
        "\n",
        "discriminator = build_discriminator(image_shape)\n",
        "decision = discriminator(generated_image)\n",
        "print (decision)"
      ]
    },
    {
      "cell_type": "markdown",
      "metadata": {
        "id": "-ChOo3D1OsVc"
      },
      "source": [
        "Loss functions must be developed that allow the generator and discriminator to be trained in an adversarial way.  Because these two neural networks are being trained independently they must be trained in two separate passes.  This requires two separate loss functions and also two separate updates to the gradients.  When the discriminator's gradients are applied to decrease the discriminator's loss it is important that only the discriminator's weights are update.  It is not fair, nor will it produce good results, to adversarially damage the weights of the generator to help the discriminator.  A simple backpropagation would do this.  It would simultaneously affect the weights of both generator and discriminator to lower whatever loss it was assigned to lower.\n",
        "\n",
        "Figure 7.TDIS shows how the discriminator is trained.\n",
        "\n",
        "**Figure 7.TDIS: Training the Discriminator**\n",
        "![Training the Discriminator](https://raw.githubusercontent.com/jeffheaton/t81_558_deep_learning/master/images/gan_fig_2.png \"Training the Discriminator\")\n",
        "\n",
        "Here a training set is generated with an equal number of real and fake images.  The real images are randomly sampled (chosen) from the training data.  An equal number of random images are generated from random seeds.  For the discriminator training set, the $x$ contains the input images and the $y$ contains a value of 1 for real images and 0 for generated ones.\n",
        "\n",
        "Likewise, the Figure 7.TGEN shows how the generator is trained.\n",
        "\n",
        "**Figure 7.TGEN: Training the Generator**\n",
        "![Training the Generator](https://raw.githubusercontent.com/jeffheaton/t81_558_deep_learning/master/images/gan_fig_3.png \"Training the Generator\")\n",
        "\n",
        "For the generator training set, the $x$ contains the random seeds to generate images and the $y$ always contains the value of 1, because the optimal is for the generator to have generated such good images that the discriminiator was fooled into assigning them a probability near 1."
      ]
    },
    {
      "cell_type": "code",
      "execution_count": 18,
      "metadata": {
        "id": "gBaP98zAySJV"
      },
      "outputs": [],
      "source": [
        "# This method returns a helper function to compute cross entropy loss\n",
        "cross_entropy = tf.keras.losses.BinaryCrossentropy()\n",
        "\n",
        "def discriminator_loss(real_output, fake_output):\n",
        "    real_loss = cross_entropy(tf.ones_like(real_output), real_output)\n",
        "    fake_loss = cross_entropy(tf.zeros_like(fake_output), fake_output)\n",
        "    total_loss = real_loss + fake_loss\n",
        "    return total_loss\n",
        "\n",
        "def generator_loss(fake_output):\n",
        "    return cross_entropy(tf.ones_like(fake_output), fake_output)"
      ]
    },
    {
      "cell_type": "markdown",
      "metadata": {
        "id": "gIlZvHGAxbWf"
      },
      "source": [
        "Both the generator and discriminator use Adam and the same learning rate and momentum.  This does not need to be the case.  If you use a **GENERATE_RES** greater than 3 you may need to tune these learning rates, as well as other training and hyperparameters.  "
      ]
    },
    {
      "cell_type": "code",
      "execution_count": 19,
      "metadata": {
        "id": "79UDhOCa0R4h"
      },
      "outputs": [],
      "source": [
        "generator_optimizer = tf.keras.optimizers.Adam(1.5e-4,0.5)\n",
        "discriminator_optimizer = tf.keras.optimizers.Adam(1.5e-4,0.5)"
      ]
    },
    {
      "cell_type": "markdown",
      "metadata": {
        "id": "frCpCNn8yRcM"
      },
      "source": [
        "The following function is where most of the training takes place for both the discriminator and the generator.  This function was based on the GAN provided by the [TensorFlow Keras exmples](https://www.tensorflow.org/tutorials/generative/dcgan) documentation.  The first thing you should notice about this function is that it is annotated with the **tf.function** annotation.  This causes the function to be precompiled and improves performance.\n",
        "\n",
        "This function trans differently than the code we previously saw for training.  This code makes use of **GradientTape** to allow the discriminator and generator to be trained together, yet separately.  \n",
        "\n"
      ]
    },
    {
      "cell_type": "code",
      "execution_count": 20,
      "metadata": {
        "id": "uzyh-LqU0j5d"
      },
      "outputs": [],
      "source": [
        "# Notice the use of `tf.function`\n",
        "# This annotation causes the function to be \"compiled\".\n",
        "@tf.function\n",
        "def train_step(images):\n",
        "  seed = tf.random.normal([BATCH_SIZE, SEED_SIZE])\n",
        "\n",
        "  with tf.GradientTape() as gen_tape, tf.GradientTape() as disc_tape:\n",
        "    generated_images = generator(seed, training=True)\n",
        "\n",
        "    real_output = discriminator(images, training=True)\n",
        "    fake_output = discriminator(generated_images, training=True)\n",
        "\n",
        "    gen_loss = generator_loss(fake_output)\n",
        "    disc_loss = discriminator_loss(real_output, fake_output)\n",
        "\n",
        "\n",
        "    gradients_of_generator = gen_tape.gradient(\\\n",
        "        gen_loss, generator.trainable_variables)\n",
        "    gradients_of_discriminator = disc_tape.gradient(\\\n",
        "        disc_loss, discriminator.trainable_variables)\n",
        "\n",
        "    generator_optimizer.apply_gradients(zip(\n",
        "        gradients_of_generator, generator.trainable_variables))\n",
        "    discriminator_optimizer.apply_gradients(zip(\n",
        "        gradients_of_discriminator,\n",
        "        discriminator.trainable_variables))\n",
        "  return gen_loss,disc_loss"
      ]
    },
    {
      "cell_type": "code",
      "execution_count": 21,
      "metadata": {
        "id": "NjrRgDR10lSF"
      },
      "outputs": [],
      "source": [
        "def train(dataset, epochs):\n",
        "  fixed_seed = np.random.normal(0, 1, (PREVIEW_ROWS * PREVIEW_COLS,\n",
        "                                       SEED_SIZE))\n",
        "  start = time.time()\n",
        "\n",
        "  for epoch in range(epochs):\n",
        "    epoch_start = time.time()\n",
        "\n",
        "    gen_loss_list = []\n",
        "    disc_loss_list = []\n",
        "\n",
        "    for image_batch in dataset:\n",
        "      t = train_step(image_batch)\n",
        "      gen_loss_list.append(t[0])\n",
        "      disc_loss_list.append(t[1])\n",
        "\n",
        "    g_loss = sum(gen_loss_list) / len(gen_loss_list)\n",
        "    d_loss = sum(disc_loss_list) / len(disc_loss_list)\n",
        "\n",
        "    epoch_elapsed = time.time()-epoch_start\n",
        "    print (f'Epoch {epoch+1}, gen loss={g_loss},disc loss={d_loss},'\\\n",
        "           f' {hms_string(epoch_elapsed)}')\n",
        "    save_images(epoch,fixed_seed)\n",
        "\n",
        "  elapsed = time.time()-start\n",
        "  print (f'Training time: {hms_string(elapsed)}')\n"
      ]
    },
    {
      "cell_type": "code",
      "execution_count": 22,
      "metadata": {
        "colab": {
          "base_uri": "https://localhost:8080/"
        },
        "id": "vWmEHprD0t1V",
        "outputId": "9b96545d-f818-4b2e-987d-1a1da86e9a94"
      },
      "outputs": [
        {
          "output_type": "stream",
          "name": "stdout",
          "text": [
            "Epoch 1, gen loss=2.220015048980713,disc loss=0.9734587669372559, 0:00:25.54\n",
            "1/1 [==============================] - 1s 1s/step\n",
            "Epoch 2, gen loss=2.4109115600585938,disc loss=1.004738450050354, 0:00:09.50\n",
            "1/1 [==============================] - 0s 34ms/step\n",
            "Epoch 3, gen loss=2.659396171569824,disc loss=0.9250429272651672, 0:00:09.51\n",
            "1/1 [==============================] - 0s 17ms/step\n",
            "Epoch 4, gen loss=2.9665465354919434,disc loss=0.7687910199165344, 0:00:09.56\n",
            "1/1 [==============================] - 0s 17ms/step\n",
            "Epoch 5, gen loss=3.4046597480773926,disc loss=0.8192374110221863, 0:00:09.57\n",
            "1/1 [==============================] - 0s 17ms/step\n",
            "Epoch 6, gen loss=3.4839932918548584,disc loss=0.771405816078186, 0:00:09.62\n",
            "1/1 [==============================] - 0s 19ms/step\n",
            "Epoch 7, gen loss=3.667978525161743,disc loss=0.7000989317893982, 0:00:09.71\n",
            "1/1 [==============================] - 0s 27ms/step\n",
            "Epoch 8, gen loss=3.406888484954834,disc loss=0.7840366363525391, 0:00:09.75\n",
            "1/1 [==============================] - 0s 35ms/step\n",
            "Epoch 9, gen loss=3.1605000495910645,disc loss=0.8274977803230286, 0:00:09.74\n",
            "1/1 [==============================] - 0s 16ms/step\n",
            "Epoch 10, gen loss=3.1992082595825195,disc loss=0.8313181400299072, 0:00:09.77\n",
            "1/1 [==============================] - 0s 17ms/step\n",
            "Epoch 11, gen loss=3.237196922302246,disc loss=0.7818929553031921, 0:00:09.79\n",
            "1/1 [==============================] - 0s 17ms/step\n",
            "Epoch 12, gen loss=3.199753999710083,disc loss=0.7483102679252625, 0:00:09.79\n",
            "1/1 [==============================] - 0s 18ms/step\n",
            "Epoch 13, gen loss=3.1012721061706543,disc loss=0.8133459687232971, 0:00:09.86\n",
            "1/1 [==============================] - 0s 27ms/step\n",
            "Epoch 14, gen loss=3.1277480125427246,disc loss=0.7070596218109131, 0:00:09.87\n",
            "1/1 [==============================] - 0s 32ms/step\n",
            "Epoch 15, gen loss=3.438448429107666,disc loss=0.7228037118911743, 0:00:09.89\n",
            "1/1 [==============================] - 0s 18ms/step\n",
            "Epoch 16, gen loss=3.396013021469116,disc loss=0.7299241423606873, 0:00:09.92\n",
            "1/1 [==============================] - 0s 17ms/step\n",
            "Epoch 17, gen loss=3.4301908016204834,disc loss=0.6207390427589417, 0:00:09.93\n",
            "1/1 [==============================] - 0s 17ms/step\n",
            "Epoch 18, gen loss=3.2818455696105957,disc loss=0.579612135887146, 0:00:09.94\n",
            "1/1 [==============================] - 0s 18ms/step\n",
            "Epoch 19, gen loss=3.3191323280334473,disc loss=0.5876952409744263, 0:00:09.93\n",
            "1/1 [==============================] - 0s 17ms/step\n",
            "Epoch 20, gen loss=3.4682364463806152,disc loss=0.6590508222579956, 0:00:09.96\n",
            "1/1 [==============================] - 0s 30ms/step\n",
            "Epoch 21, gen loss=3.318861961364746,disc loss=0.6824945211410522, 0:00:10.00\n",
            "1/1 [==============================] - 0s 29ms/step\n",
            "Epoch 22, gen loss=3.4010000228881836,disc loss=0.6517779231071472, 0:00:10.13\n",
            "1/1 [==============================] - 0s 17ms/step\n",
            "Epoch 23, gen loss=3.1882779598236084,disc loss=0.6356891989707947, 0:00:10.19\n",
            "1/1 [==============================] - 0s 18ms/step\n",
            "Epoch 24, gen loss=3.158703088760376,disc loss=0.6108675599098206, 0:00:10.14\n",
            "1/1 [==============================] - 0s 17ms/step\n",
            "Epoch 25, gen loss=3.3303072452545166,disc loss=0.6548650860786438, 0:00:10.08\n",
            "1/1 [==============================] - 0s 18ms/step\n",
            "Epoch 26, gen loss=3.293445348739624,disc loss=0.613145112991333, 0:00:10.02\n",
            "1/1 [==============================] - 0s 18ms/step\n",
            "Epoch 27, gen loss=3.3860299587249756,disc loss=0.5778321027755737, 0:00:10.05\n",
            "1/1 [==============================] - 0s 26ms/step\n",
            "Epoch 28, gen loss=3.3886070251464844,disc loss=0.583598256111145, 0:00:10.09\n",
            "1/1 [==============================] - 0s 26ms/step\n",
            "Epoch 29, gen loss=3.3951849937438965,disc loss=0.5880314707756042, 0:00:10.11\n",
            "1/1 [==============================] - 0s 17ms/step\n",
            "Epoch 30, gen loss=3.5664615631103516,disc loss=0.5953730344772339, 0:00:10.10\n",
            "1/1 [==============================] - 0s 17ms/step\n",
            "Epoch 31, gen loss=3.372704029083252,disc loss=0.543034553527832, 0:00:10.12\n",
            "1/1 [==============================] - 0s 18ms/step\n",
            "Epoch 32, gen loss=3.5182225704193115,disc loss=0.6189435124397278, 0:00:10.07\n",
            "1/1 [==============================] - 0s 21ms/step\n",
            "Epoch 33, gen loss=3.500361442565918,disc loss=0.4805492162704468, 0:00:10.08\n",
            "1/1 [==============================] - 0s 17ms/step\n",
            "Epoch 34, gen loss=3.567802667617798,disc loss=0.4808797240257263, 0:00:10.10\n",
            "1/1 [==============================] - 0s 17ms/step\n",
            "Epoch 35, gen loss=3.7177493572235107,disc loss=0.5059226751327515, 0:00:10.13\n",
            "1/1 [==============================] - 0s 28ms/step\n",
            "Epoch 36, gen loss=3.587036609649658,disc loss=0.4589076340198517, 0:00:10.11\n",
            "1/1 [==============================] - 0s 28ms/step\n",
            "Epoch 37, gen loss=3.5770492553710938,disc loss=0.45208969712257385, 0:00:10.07\n",
            "1/1 [==============================] - 0s 20ms/step\n",
            "Epoch 38, gen loss=3.7795443534851074,disc loss=0.4726250171661377, 0:00:10.11\n",
            "1/1 [==============================] - 0s 17ms/step\n",
            "Epoch 39, gen loss=3.688059091567993,disc loss=0.4087391197681427, 0:00:10.09\n",
            "1/1 [==============================] - 0s 17ms/step\n",
            "Epoch 40, gen loss=3.836679220199585,disc loss=0.435446172952652, 0:00:10.09\n",
            "1/1 [==============================] - 0s 17ms/step\n",
            "Epoch 41, gen loss=3.6839535236358643,disc loss=0.4198182225227356, 0:00:10.10\n",
            "1/1 [==============================] - 0s 18ms/step\n",
            "Epoch 42, gen loss=3.82755970954895,disc loss=0.44744542241096497, 0:00:10.11\n",
            "1/1 [==============================] - 0s 31ms/step\n",
            "Epoch 43, gen loss=3.703244686126709,disc loss=0.4466920495033264, 0:00:10.14\n",
            "1/1 [==============================] - 0s 33ms/step\n",
            "Epoch 44, gen loss=3.870910167694092,disc loss=0.4993976354598999, 0:00:10.09\n",
            "1/1 [==============================] - 0s 17ms/step\n",
            "Epoch 45, gen loss=3.845168113708496,disc loss=0.4248255789279938, 0:00:10.07\n",
            "1/1 [==============================] - 0s 17ms/step\n",
            "Epoch 46, gen loss=3.9208312034606934,disc loss=0.5277416110038757, 0:00:10.08\n",
            "1/1 [==============================] - 0s 18ms/step\n",
            "Epoch 47, gen loss=3.863694667816162,disc loss=0.4453263282775879, 0:00:10.08\n",
            "1/1 [==============================] - 0s 17ms/step\n",
            "Epoch 48, gen loss=3.9266483783721924,disc loss=0.39794886112213135, 0:00:10.10\n",
            "1/1 [==============================] - 0s 17ms/step\n",
            "Epoch 49, gen loss=3.989004611968994,disc loss=0.416420578956604, 0:00:10.15\n",
            "1/1 [==============================] - 0s 29ms/step\n",
            "Epoch 50, gen loss=4.06602668762207,disc loss=0.4450727701187134, 0:00:10.11\n",
            "1/1 [==============================] - 0s 29ms/step\n",
            "Epoch 51, gen loss=3.988495349884033,disc loss=0.40519487857818604, 0:00:10.09\n",
            "1/1 [==============================] - 0s 18ms/step\n",
            "Epoch 52, gen loss=4.121288776397705,disc loss=0.37138989567756653, 0:00:10.11\n",
            "1/1 [==============================] - 0s 17ms/step\n",
            "Epoch 53, gen loss=3.9699621200561523,disc loss=0.3393789231777191, 0:00:10.08\n",
            "1/1 [==============================] - 0s 17ms/step\n",
            "Epoch 54, gen loss=4.160078048706055,disc loss=0.3517042398452759, 0:00:10.09\n",
            "1/1 [==============================] - 0s 17ms/step\n",
            "Epoch 55, gen loss=4.205841541290283,disc loss=0.4012783169746399, 0:00:10.08\n",
            "1/1 [==============================] - 0s 19ms/step\n",
            "Epoch 56, gen loss=4.317401885986328,disc loss=0.3807494342327118, 0:00:10.13\n",
            "1/1 [==============================] - 0s 29ms/step\n",
            "Epoch 57, gen loss=4.376025199890137,disc loss=0.4465568959712982, 0:00:10.10\n",
            "1/1 [==============================] - 0s 30ms/step\n",
            "Epoch 58, gen loss=4.12300443649292,disc loss=0.3563160002231598, 0:00:10.23\n",
            "1/1 [==============================] - 0s 25ms/step\n",
            "Epoch 59, gen loss=4.159183025360107,disc loss=0.39111393690109253, 0:00:10.08\n",
            "1/1 [==============================] - 0s 17ms/step\n",
            "Epoch 60, gen loss=4.221238613128662,disc loss=0.35114458203315735, 0:00:10.09\n",
            "1/1 [==============================] - 0s 17ms/step\n",
            "Epoch 61, gen loss=4.329824447631836,disc loss=0.33401378989219666, 0:00:10.09\n",
            "1/1 [==============================] - 0s 17ms/step\n",
            "Epoch 62, gen loss=4.586587905883789,disc loss=0.44473475217819214, 0:00:10.13\n",
            "1/1 [==============================] - 0s 17ms/step\n",
            "Epoch 63, gen loss=4.51973295211792,disc loss=0.3980056643486023, 0:00:10.08\n",
            "1/1 [==============================] - 0s 19ms/step\n",
            "Epoch 64, gen loss=4.500585556030273,disc loss=0.3500913977622986, 0:00:10.11\n",
            "1/1 [==============================] - 0s 17ms/step\n",
            "Epoch 65, gen loss=4.426076889038086,disc loss=0.30541667342185974, 0:00:10.15\n",
            "1/1 [==============================] - 0s 33ms/step\n",
            "Epoch 66, gen loss=4.522397041320801,disc loss=0.27223753929138184, 0:00:10.13\n",
            "1/1 [==============================] - 0s 28ms/step\n",
            "Epoch 67, gen loss=4.720236778259277,disc loss=0.28546831011772156, 0:00:10.07\n",
            "1/1 [==============================] - 0s 17ms/step\n",
            "Epoch 68, gen loss=4.70749044418335,disc loss=0.39689338207244873, 0:00:10.08\n",
            "1/1 [==============================] - 0s 18ms/step\n",
            "Epoch 69, gen loss=4.6404571533203125,disc loss=0.3186202943325043, 0:00:10.07\n",
            "1/1 [==============================] - 0s 17ms/step\n",
            "Epoch 70, gen loss=4.6931962966918945,disc loss=0.33652713894844055, 0:00:10.08\n",
            "1/1 [==============================] - 0s 19ms/step\n",
            "Epoch 71, gen loss=4.646344184875488,disc loss=0.3044556677341461, 0:00:10.09\n",
            "1/1 [==============================] - 0s 17ms/step\n",
            "Epoch 72, gen loss=4.874144077301025,disc loss=0.2956274449825287, 0:00:10.09\n",
            "1/1 [==============================] - 0s 17ms/step\n",
            "Epoch 73, gen loss=4.723214149475098,disc loss=0.47617417573928833, 0:00:10.12\n",
            "1/1 [==============================] - 0s 30ms/step\n",
            "Epoch 74, gen loss=4.815918445587158,disc loss=0.3421977162361145, 0:00:10.09\n",
            "1/1 [==============================] - 0s 30ms/step\n",
            "Epoch 75, gen loss=4.689144611358643,disc loss=0.28093501925468445, 0:00:10.08\n",
            "1/1 [==============================] - 0s 21ms/step\n",
            "Epoch 76, gen loss=4.734389305114746,disc loss=0.24698002636432648, 0:00:10.09\n",
            "1/1 [==============================] - 0s 18ms/step\n",
            "Epoch 77, gen loss=4.942569255828857,disc loss=0.3108273446559906, 0:00:10.10\n",
            "1/1 [==============================] - 0s 17ms/step\n",
            "Epoch 78, gen loss=4.922848224639893,disc loss=0.3279428482055664, 0:00:10.10\n",
            "1/1 [==============================] - 0s 17ms/step\n",
            "Epoch 79, gen loss=4.964624404907227,disc loss=0.3061261475086212, 0:00:10.10\n",
            "1/1 [==============================] - 0s 17ms/step\n",
            "Epoch 80, gen loss=5.069712162017822,disc loss=0.3057374358177185, 0:00:10.13\n",
            "1/1 [==============================] - 0s 27ms/step\n",
            "Epoch 81, gen loss=4.834721088409424,disc loss=0.23607829213142395, 0:00:10.12\n",
            "1/1 [==============================] - 0s 30ms/step\n",
            "Epoch 82, gen loss=5.102313995361328,disc loss=0.3527427911758423, 0:00:10.09\n",
            "1/1 [==============================] - 0s 19ms/step\n",
            "Epoch 83, gen loss=5.0137457847595215,disc loss=0.2938380539417267, 0:00:10.08\n",
            "1/1 [==============================] - 0s 17ms/step\n",
            "Epoch 84, gen loss=5.090585231781006,disc loss=0.312296062707901, 0:00:10.09\n",
            "1/1 [==============================] - 0s 18ms/step\n",
            "Epoch 85, gen loss=4.967503070831299,disc loss=0.2689265012741089, 0:00:10.10\n",
            "1/1 [==============================] - 0s 17ms/step\n",
            "Epoch 86, gen loss=5.163433074951172,disc loss=0.34159141778945923, 0:00:10.10\n",
            "1/1 [==============================] - 0s 17ms/step\n",
            "Epoch 87, gen loss=5.109612464904785,disc loss=0.28645145893096924, 0:00:10.09\n",
            "1/1 [==============================] - 0s 17ms/step\n",
            "Epoch 88, gen loss=5.05864143371582,disc loss=0.33178311586380005, 0:00:10.08\n",
            "1/1 [==============================] - 0s 36ms/step\n",
            "Epoch 89, gen loss=5.4530792236328125,disc loss=0.31549808382987976, 0:00:10.10\n",
            "1/1 [==============================] - 0s 28ms/step\n",
            "Epoch 90, gen loss=5.207466125488281,disc loss=0.25928911566734314, 0:00:10.06\n",
            "1/1 [==============================] - 0s 19ms/step\n",
            "Epoch 91, gen loss=5.021020889282227,disc loss=0.22192004323005676, 0:00:10.06\n",
            "1/1 [==============================] - 0s 18ms/step\n",
            "Epoch 92, gen loss=5.255101680755615,disc loss=0.2830515205860138, 0:00:10.09\n",
            "1/1 [==============================] - 0s 17ms/step\n",
            "Epoch 93, gen loss=5.169685363769531,disc loss=0.26354748010635376, 0:00:10.10\n",
            "1/1 [==============================] - 0s 19ms/step\n",
            "Epoch 94, gen loss=5.2248148918151855,disc loss=0.2412494421005249, 0:00:10.09\n",
            "1/1 [==============================] - 0s 17ms/step\n",
            "Epoch 95, gen loss=5.353935241699219,disc loss=0.29590871930122375, 0:00:10.08\n",
            "1/1 [==============================] - 0s 17ms/step\n",
            "Epoch 96, gen loss=5.270158290863037,disc loss=0.2082221657037735, 0:00:10.08\n",
            "1/1 [==============================] - 0s 27ms/step\n",
            "Epoch 97, gen loss=5.557850360870361,disc loss=0.2528756856918335, 0:00:10.13\n",
            "1/1 [==============================] - 0s 31ms/step\n",
            "Epoch 98, gen loss=5.404650688171387,disc loss=0.23441006243228912, 0:00:10.08\n",
            "1/1 [==============================] - 0s 17ms/step\n",
            "Epoch 99, gen loss=5.396042346954346,disc loss=0.19787126779556274, 0:00:10.09\n",
            "1/1 [==============================] - 0s 17ms/step\n",
            "Epoch 100, gen loss=5.643509387969971,disc loss=0.24921654164791107, 0:00:10.10\n",
            "1/1 [==============================] - 0s 21ms/step\n",
            "Epoch 101, gen loss=5.427637100219727,disc loss=0.20324070751667023, 0:00:10.11\n",
            "1/1 [==============================] - 0s 19ms/step\n",
            "Epoch 102, gen loss=5.510133743286133,disc loss=0.3530985116958618, 0:00:10.08\n",
            "1/1 [==============================] - 0s 18ms/step\n",
            "Epoch 103, gen loss=5.568386077880859,disc loss=0.2052537351846695, 0:00:10.12\n",
            "1/1 [==============================] - 0s 26ms/step\n",
            "Epoch 104, gen loss=5.5453996658325195,disc loss=0.23129737377166748, 0:00:10.09\n",
            "1/1 [==============================] - 0s 30ms/step\n",
            "Epoch 105, gen loss=5.805063724517822,disc loss=0.26005902886390686, 0:00:10.07\n",
            "1/1 [==============================] - 0s 22ms/step\n",
            "Epoch 106, gen loss=5.487727642059326,disc loss=0.2338869720697403, 0:00:10.08\n",
            "1/1 [==============================] - 0s 17ms/step\n",
            "Epoch 107, gen loss=5.595321178436279,disc loss=0.20122961699962616, 0:00:10.09\n",
            "1/1 [==============================] - 0s 17ms/step\n",
            "Epoch 108, gen loss=5.891520977020264,disc loss=0.22595418989658356, 0:00:10.08\n",
            "1/1 [==============================] - 0s 18ms/step\n",
            "Epoch 109, gen loss=5.827638149261475,disc loss=0.31293532252311707, 0:00:10.09\n",
            "1/1 [==============================] - 0s 17ms/step\n",
            "Epoch 110, gen loss=5.833142280578613,disc loss=0.25295525789260864, 0:00:10.09\n",
            "1/1 [==============================] - 0s 24ms/step\n",
            "Epoch 111, gen loss=5.7784295082092285,disc loss=0.21199122071266174, 0:00:10.13\n",
            "1/1 [==============================] - 0s 32ms/step\n",
            "Epoch 112, gen loss=5.679444789886475,disc loss=0.2197931706905365, 0:00:10.07\n",
            "1/1 [==============================] - 0s 30ms/step\n",
            "Epoch 113, gen loss=5.836802005767822,disc loss=0.3301362097263336, 0:00:10.06\n",
            "1/1 [==============================] - 0s 19ms/step\n",
            "Epoch 114, gen loss=5.79970121383667,disc loss=0.21889269351959229, 0:00:10.05\n",
            "1/1 [==============================] - 0s 23ms/step\n",
            "Epoch 115, gen loss=6.049264907836914,disc loss=0.21137578785419464, 0:00:10.08\n",
            "1/1 [==============================] - 0s 18ms/step\n",
            "Epoch 116, gen loss=5.926924228668213,disc loss=0.20948150753974915, 0:00:10.09\n",
            "1/1 [==============================] - 0s 17ms/step\n",
            "Epoch 117, gen loss=5.945651054382324,disc loss=0.19847357273101807, 0:00:10.09\n",
            "1/1 [==============================] - 0s 17ms/step\n",
            "Epoch 118, gen loss=6.158343315124512,disc loss=0.2552706003189087, 0:00:10.09\n",
            "1/1 [==============================] - 0s 17ms/step\n",
            "Epoch 119, gen loss=5.839982986450195,disc loss=0.17336204648017883, 0:00:10.09\n",
            "1/1 [==============================] - 0s 26ms/step\n",
            "Epoch 120, gen loss=6.093632221221924,disc loss=0.18357688188552856, 0:00:10.12\n",
            "1/1 [==============================] - 0s 29ms/step\n",
            "Epoch 121, gen loss=6.031598091125488,disc loss=0.18758925795555115, 0:00:10.08\n",
            "1/1 [==============================] - 0s 17ms/step\n",
            "Epoch 122, gen loss=6.28884744644165,disc loss=0.18078626692295074, 0:00:10.07\n",
            "1/1 [==============================] - 0s 17ms/step\n",
            "Epoch 123, gen loss=6.172647476196289,disc loss=0.1992340236902237, 0:00:10.08\n",
            "1/1 [==============================] - 0s 17ms/step\n",
            "Epoch 124, gen loss=6.026038646697998,disc loss=0.1974506825208664, 0:00:10.10\n",
            "1/1 [==============================] - 0s 17ms/step\n",
            "Epoch 125, gen loss=6.577752590179443,disc loss=0.20721985399723053, 0:00:10.10\n",
            "1/1 [==============================] - 0s 17ms/step\n",
            "Epoch 126, gen loss=6.133566379547119,disc loss=0.2109602987766266, 0:00:10.08\n",
            "1/1 [==============================] - 0s 27ms/step\n",
            "Epoch 127, gen loss=6.331646919250488,disc loss=0.18608933687210083, 0:00:10.12\n",
            "1/1 [==============================] - 0s 27ms/step\n",
            "Epoch 128, gen loss=6.343742847442627,disc loss=0.17640919983386993, 0:00:10.10\n",
            "1/1 [==============================] - 0s 17ms/step\n",
            "Epoch 129, gen loss=6.400838851928711,disc loss=0.22758890688419342, 0:00:10.08\n",
            "1/1 [==============================] - 0s 17ms/step\n",
            "Epoch 130, gen loss=6.220447540283203,disc loss=0.20372802019119263, 0:00:10.08\n",
            "1/1 [==============================] - 0s 17ms/step\n",
            "Epoch 131, gen loss=6.3440423011779785,disc loss=0.1744789034128189, 0:00:10.10\n",
            "1/1 [==============================] - 0s 20ms/step\n",
            "Epoch 132, gen loss=6.246649265289307,disc loss=0.17078709602355957, 0:00:10.08\n",
            "1/1 [==============================] - 0s 17ms/step\n",
            "Epoch 133, gen loss=6.329370498657227,disc loss=0.20236246287822723, 0:00:10.12\n",
            "1/1 [==============================] - 0s 25ms/step\n",
            "Epoch 134, gen loss=6.393333911895752,disc loss=0.3067614734172821, 0:00:10.23\n",
            "1/1 [==============================] - 0s 33ms/step\n",
            "Epoch 135, gen loss=6.479571342468262,disc loss=0.15729236602783203, 0:00:10.13\n",
            "1/1 [==============================] - 0s 36ms/step\n",
            "Epoch 136, gen loss=6.457740783691406,disc loss=0.2925349473953247, 0:00:10.08\n",
            "1/1 [==============================] - 0s 17ms/step\n",
            "Epoch 137, gen loss=6.558096408843994,disc loss=0.1453983038663864, 0:00:10.08\n",
            "1/1 [==============================] - 0s 17ms/step\n",
            "Epoch 138, gen loss=6.492563247680664,disc loss=0.21244941651821136, 0:00:10.09\n",
            "1/1 [==============================] - 0s 18ms/step\n",
            "Epoch 139, gen loss=6.451165199279785,disc loss=0.15363287925720215, 0:00:10.09\n",
            "1/1 [==============================] - 0s 19ms/step\n",
            "Epoch 140, gen loss=6.302160739898682,disc loss=0.1702778935432434, 0:00:10.07\n",
            "1/1 [==============================] - 0s 19ms/step\n",
            "Epoch 141, gen loss=6.343957901000977,disc loss=0.15614263713359833, 0:00:10.09\n",
            "1/1 [==============================] - 0s 36ms/step\n",
            "Epoch 142, gen loss=6.436522960662842,disc loss=0.19083671271800995, 0:00:10.11\n",
            "1/1 [==============================] - 0s 26ms/step\n",
            "Epoch 143, gen loss=6.486724853515625,disc loss=0.2512266933917999, 0:00:10.09\n",
            "1/1 [==============================] - 0s 26ms/step\n",
            "Epoch 144, gen loss=6.407352924346924,disc loss=0.18823227286338806, 0:00:10.09\n",
            "1/1 [==============================] - 0s 18ms/step\n",
            "Epoch 145, gen loss=6.592021942138672,disc loss=0.18495182693004608, 0:00:10.10\n",
            "1/1 [==============================] - 0s 17ms/step\n",
            "Epoch 146, gen loss=6.474336624145508,disc loss=0.20439191162586212, 0:00:10.08\n",
            "1/1 [==============================] - 0s 17ms/step\n",
            "Epoch 147, gen loss=6.426045894622803,disc loss=0.18783743679523468, 0:00:10.07\n",
            "1/1 [==============================] - 0s 19ms/step\n",
            "Epoch 148, gen loss=6.524103164672852,disc loss=0.18214581906795502, 0:00:10.08\n",
            "1/1 [==============================] - 0s 17ms/step\n",
            "Epoch 149, gen loss=6.462486267089844,disc loss=0.12333311885595322, 0:00:10.12\n",
            "1/1 [==============================] - 0s 26ms/step\n",
            "Epoch 150, gen loss=6.665078163146973,disc loss=0.1509033888578415, 0:00:10.13\n",
            "1/1 [==============================] - 0s 30ms/step\n",
            "Training time: 0:28:45.43\n"
          ]
        }
      ],
      "source": [
        "train(train_dataset, EPOCHS)"
      ]
    },
    {
      "cell_type": "markdown",
      "metadata": {
        "id": "Mvir4efcLlwi"
      },
      "source": []
    },
    {
      "cell_type": "code",
      "execution_count": null,
      "metadata": {
        "id": "15Hia_feD9sm"
      },
      "outputs": [],
      "source": [
        "generator.save(os.path.join(DATA_PATH,\"face_generator.h5\"))"
      ]
    }
  ],
  "metadata": {
    "anaconda-cloud": {},
    "colab": {
      "name": "t81_558_class_07_2_Keras_gan.ipynb",
      "provenance": [],
      "gpuType": "T4"
    },
    "kernelspec": {
      "display_name": "Python 3.9 (tensorflow)",
      "language": "python",
      "name": "tensorflow"
    },
    "language_info": {
      "codemirror_mode": {
        "name": "ipython",
        "version": 3
      },
      "file_extension": ".py",
      "mimetype": "text/x-python",
      "name": "python",
      "nbconvert_exporter": "python",
      "pygments_lexer": "ipython3",
      "version": "3.9.7"
    },
    "accelerator": "GPU"
  },
  "nbformat": 4,
  "nbformat_minor": 0
}